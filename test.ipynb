{
 "cells": [
  {
   "cell_type": "code",
   "execution_count": null,
   "id": "4f5acc25",
   "metadata": {},
   "outputs": [],
   "source": [
    "from offline_ab import ABCore\n",
    "from offline_ab import CrossValEstimation"
   ]
  },
  {
   "cell_type": "code",
   "execution_count": null,
   "id": "87afc0c4",
   "metadata": {},
   "outputs": [],
   "source": []
  }
 ],
 "metadata": {
  "kernelspec": {
   "display_name": "offline-ab",
   "language": "python",
   "name": "python3"
  },
  "language_info": {
   "codemirror_mode": {
    "name": "ipython",
    "version": 3
   },
   "file_extension": ".py",
   "mimetype": "text/x-python",
   "name": "python",
   "nbconvert_exporter": "python",
   "pygments_lexer": "ipython3",
   "version": "3.10.16"
  }
 },
 "nbformat": 4,
 "nbformat_minor": 5
}
