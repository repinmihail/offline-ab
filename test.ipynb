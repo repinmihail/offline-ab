{
 "cells": [
  {
   "cell_type": "code",
   "execution_count": null,
   "id": "4f5acc25",
   "metadata": {},
   "outputs": [],
   "source": [
    "from offline_ab import ABCore\n",
    "from offline_ab import CrossValEstimation"
   ]
  },
  {
   "cell_type": "code",
   "execution_count": null,
   "id": "142284ac",
   "metadata": {},
   "outputs": [],
   "source": []
  }
 ],
 "metadata": {
  "kernelspec": {
   "display_name": "TestLab",
   "language": "python",
   "name": "python3"
  },
  "language_info": {
   "codemirror_mode": {
    "name": "ipython",
    "version": 3
   },
   "file_extension": ".py",
   "mimetype": "text/x-python",
   "name": "python",
   "nbconvert_exporter": "python",
   "pygments_lexer": "ipython3",
   "version": "3.10.14"
  }
 },
 "nbformat": 4,
 "nbformat_minor": 5
}
